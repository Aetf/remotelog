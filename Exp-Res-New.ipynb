{
 "cells": [
  {
   "cell_type": "code",
   "execution_count": 2,
   "metadata": {
    "collapsed": true,
    "init_cell": true
   },
   "outputs": [],
   "source": [
    "import analysis as ana\n",
    "import matplotlib.pyplot as plt\n",
    "import importlib as ilb\n",
    "ilb.reload(ana)\n",
    "%matplotlib inline"
   ]
  },
  {
   "cell_type": "markdown",
   "metadata": {},
   "source": [
    "# 2016-9-22"
   ]
  },
  {
   "cell_type": "markdown",
   "metadata": {},
   "source": [
    "## Multiple Stream Experiments\n",
    "\n",
    "Run captioner with 1,2,3 video streams. Configurations are as follow\n",
    "\n",
    "__Num of Stream: 1__\n",
    "\n",
    "InputFiles = [\n",
    "\"/home/peifeng/work/data/The_Nut_Job_trailer.mp4\"\n",
    "]\n",
    "\n",
    "- captioning-1: batch-size=60, input-fps=20, scale=3, vgg=1 GPU, captioner=1 GPU, timer=nano, num-workers=1\n",
    "- captioning-2: batch-size=60, input-fps=30, scale=3, vgg=1 GPU, captioner=1 GPU, timer=nano, num-workers=1\n",
    "- captioning-3: batch-size=60, input-fps=40, scale=3, vgg=1 GPU, captioner=1 GPU, timer=nano, num-workers=1\n",
    "\n",
    "__Num of Stream: 2__\n",
    "\n",
    "InputFiles = [\n",
    "\"/home/peifeng/work/data/Vid_I_person_crossing.avi\",\n",
    "\"/home/peifeng/work/data/The_Nut_Job_trailer.mp4\"\n",
    "]\n",
    "\n",
    "- captioning-4: batch-size=60, input-fps=20, scale=3, vgg=1 GPU, captioner=1 GPU, timer=nano, num-workers=1\n",
    "- captioning-5: batch-size=60, input-fps=30, scale=3, vgg=1 GPU, captioner=1 GPU, timer=nano, num-workers=1\n",
    "- captioning-6: batch-size=60, input-fps=40, scale=3, vgg=1 GPU, captioner=1 GPU, timer=nano, num-workers=1\n",
    "\n",
    "__Num of Stream: 3__\n",
    "\n",
    "InputFiles = [\n",
    "\"/home/peifeng/work/data/Vid_A_ball.avi\",\n",
    "\"/home/peifeng/work/data/Vid_I_person_crossing.avi\",\n",
    "\"/home/peifeng/work/data/The_Nut_Job_trailer.mp4\"\n",
    "]\n",
    "\n",
    "- captioning-7: batch-size=60, input-fps=20, scale=3, vgg=1 GPU, captioner=1 GPU, timer=nano, num-workers=1\n",
    "- captioning-8: batch-size=60, input-fps=30, scale=3, vgg=1 GPU, captioner=1 GPU, timer=nano, num-workers=1\n",
    "- captioning-9: batch-size=60, input-fps=40, scale=3, vgg=1 GPU, captioner=1 GPU, timer=nano, num-workers=1\n",
    "\n",
    "__Num of Stream: 2__\n",
    "\n",
    "InputFiles = [\n",
    "\"/home/peifeng/work/data/Vid_I_person_crossing.avi\",\n",
    "\"/home/peifeng/work/data/The_Nut_Job_trailer.mp4\"\n",
    "]\n",
    "\n",
    "- captioning-10: batch-size=60, input-fps=20, scale=6, vgg=2 GPU, captioner=2 GPU, timer=nano, num-workers=1\n",
    "- captioning-11: batch-size=60, input-fps=30, scale=6, vgg=2 GPU, captioner=2 GPU, timer=nano, num-workers=1\n",
    "- captioning-12: batch-size=60, input-fps=40, scale=6, vgg=2 GPU, captioner=2 GPU, timer=nano, num-workers=1"
   ]
  },
  {
   "cell_type": "code",
   "execution_count": 38,
   "metadata": {
    "collapsed": false,
    "scrolled": true
   },
   "outputs": [
    {
     "name": "stderr",
     "output_type": "stream",
     "text": [
      "WARNING: log version >= 4 (after 2016-9-14), remove scale stage from topologies\n",
      "Collect log from ['archive/2016-9-22/captioning-10/clarity26/6700/worker.log']\n",
      "Collect cpu log from archive/2016-9-22/captioning-10/clarity26/log.cpu\n"
     ]
    },
    {
     "name": "stdout",
     "output_type": "stream",
     "text": [
      "the glob pattern is archive/2016-9-22/captioning-10/clarity26/*/worker.log\n"
     ]
    },
    {
     "name": "stderr",
     "output_type": "stream",
     "text": [
      "Auto fixed cross stage timming issues for 0 log entries\n",
      "Dropped 0 frames\n",
      "WARNING: log version >= 4 (after 2016-9-14), remove scale stage from topologies\n",
      "Collect log from ['archive/2016-9-22/captioning-11/clarity26/6700/worker.log']\n",
      "Collect cpu log from archive/2016-9-22/captioning-11/clarity26/log.cpu\n"
     ]
    },
    {
     "name": "stdout",
     "output_type": "stream",
     "text": [
      "the glob pattern is archive/2016-9-22/captioning-11/clarity26/*/worker.log\n"
     ]
    },
    {
     "name": "stderr",
     "output_type": "stream",
     "text": [
      "Auto fixed cross stage timming issues for 0 log entries\n",
      "Dropped 0 frames\n",
      "WARNING: log version >= 4 (after 2016-9-14), remove scale stage from topologies\n",
      "Collect log from ['archive/2016-9-22/captioning-12/clarity26/6700/worker.log']\n",
      "Collect cpu log from archive/2016-9-22/captioning-12/clarity26/log.cpu\n"
     ]
    },
    {
     "name": "stdout",
     "output_type": "stream",
     "text": [
      "the glob pattern is archive/2016-9-22/captioning-12/clarity26/*/worker.log\n"
     ]
    },
    {
     "name": "stderr",
     "output_type": "stream",
     "text": [
      "Auto fixed cross stage timming issues for 0 log entries\n",
      "Dropped 0 frames\n"
     ]
    }
   ],
   "source": [
    "%capture\n",
    "ilb.reload(ana)\n",
    "ana.global_perBatch = False\n",
    "cap_mul_s1 = ana.cross_res(*['2016-9-22/captioning-{}'.format(idx) for idx in [10, 11, 12]])"
   ]
  },
  {
   "cell_type": "code",
   "execution_count": 39,
   "metadata": {
    "collapsed": false
   },
   "outputs": [
    {
     "name": "stderr",
     "output_type": "stream",
     "text": [
      "WARNING: log version >= 4 (after 2016-9-14), remove scale stage from topologies\n",
      "WARNING: log version >= 4 (after 2016-9-14), remove scale stage from topologies\n",
      "WARNING: log version >= 4 (after 2016-9-14), remove scale stage from topologies\n",
      "WARNING: log version >= 4 (after 2016-9-14), remove scale stage from topologies\n",
      "WARNING: log version >= 4 (after 2016-9-14), remove scale stage from topologies\n",
      "WARNING: log version >= 4 (after 2016-9-14), remove scale stage from topologies\n"
     ]
    },
    {
     "data": {
      "text/plain": [
       "<matplotlib.axes._subplots.AxesSubplot at 0x7fb3c92bd2b0>"
      ]
     },
     "execution_count": 39,
     "metadata": {},
     "output_type": "execute_result"
    },
    {
     "data": {
      "image/png": "[encoded data removed]",
      "text/plain": [
       "<matplotlib.figure.Figure at 0x7fb3c534be10>"
      ]
     },
     "metadata": {},
     "output_type": "display_data"
    }
   ],
   "source": [
    "cap_mul_s1.fps(x=(\"Input FPS\", lambda exp: int(exp.params['fps'])))"
   ]
  },
  {
   "cell_type": "code",
   "execution_count": null,
   "metadata": {
    "collapsed": true
   },
   "outputs": [],
   "source": []
  }
 ],
 "metadata": {
  "celltoolbar": "Initialisation Cell",
  "kernelspec": {
   "display_name": "Python 3",
   "language": "python",
   "name": "python3"
  },
  "language_info": {
   "codemirror_mode": {
    "name": "ipython",
    "version": 3
   },
   "file_extension": ".py",
   "mimetype": "text/x-python",
   "name": "python",
   "nbconvert_exporter": "python",
   "pygments_lexer": "ipython3",
   "version": "3.5.2"
  }
 },
 "nbformat": 4,
 "nbformat_minor": 0
}
